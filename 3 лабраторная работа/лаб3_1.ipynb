{
  "nbformat": 4,
  "nbformat_minor": 0,
  "metadata": {
    "colab": {
      "provenance": []
    },
    "kernelspec": {
      "name": "python3",
      "display_name": "Python 3"
    },
    "language_info": {
      "name": "python"
    }
  },
  "cells": [
    {
      "cell_type": "code",
      "execution_count": 1,
      "metadata": {
        "colab": {
          "base_uri": "https://localhost:8080/"
        },
        "id": "mRMRYamY2mlc",
        "outputId": "7a5b051b-4ec7-4702-d765-c5fbbea16389"
      },
      "outputs": [
        {
          "output_type": "stream",
          "name": "stdout",
          "text": [
            "4 0\n"
          ]
        }
      ],
      "source": [
        "# Лабораторная работа №1. Арифметика, ввод-вывод\n",
        "# Вариант 6: n = 240 минут\n",
        "\n",
        "n = 240  # количество минут с начала суток\n",
        "\n",
        "# Учитываем только минуты в пределах одних суток\n",
        "n = n % 1440\n",
        "\n",
        "# Вычисляем часы и минуты\n",
        "hours = n // 60\n",
        "minutes = n % 60\n",
        "\n",
        "# Вывод результата\n",
        "print(hours, minutes)\n"
      ]
    }
  ]
}