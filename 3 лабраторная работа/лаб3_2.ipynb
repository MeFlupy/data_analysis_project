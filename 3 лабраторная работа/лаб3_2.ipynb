{
  "nbformat": 4,
  "nbformat_minor": 0,
  "metadata": {
    "colab": {
      "provenance": []
    },
    "kernelspec": {
      "name": "python3",
      "display_name": "Python 3"
    },
    "language_info": {
      "name": "python"
    }
  },
  "cells": [
    {
      "cell_type": "code",
      "execution_count": 1,
      "metadata": {
        "colab": {
          "base_uri": "https://localhost:8080/"
        },
        "id": "pATHjzif4piW",
        "outputId": "3093b915-4e33-48b5-c670-66d9a48bddf5"
      },
      "outputs": [
        {
          "output_type": "stream",
          "name": "stdout",
          "text": [
            "Введите длину бассейна (N): 20\n",
            "Введите ширину бассейна (M): 15\n",
            "Введите расстояние до одного из длинных бортиков (x): 5\n",
            "Введите расстояние до одного из коротких бортиков (y): 2\n",
            "Минимальное расстояние до бортика: 2 метров\n"
          ]
        }
      ],
      "source": [
        "# Лабораторная работа №2. Ветвления\n",
        "# Задача: минимальное расстояние до бортика\n",
        "\n",
        "# Ввод данных\n",
        "N = int(input(\"Введите длину бассейна (N): \"))\n",
        "M = int(input(\"Введите ширину бассейна (M): \"))\n",
        "x = int(input(\"Введите расстояние до одного из длинных бортиков (x): \"))\n",
        "y = int(input(\"Введите расстояние до одного из коротких бортиков (y): \"))\n",
        "\n",
        "# Вычисление расстояний до противоположных бортиков\n",
        "to_long_side = min(x, N - x)\n",
        "to_short_side = min(y, M - y)\n",
        "\n",
        "# Минимальное расстояние до любого бортика\n",
        "min_distance = min(to_long_side, to_short_side)\n",
        "\n",
        "# Вывод результата\n",
        "print(\"Минимальное расстояние до бортика:\", min_distance, \"метров\")\n"
      ]
    }
  ]
}