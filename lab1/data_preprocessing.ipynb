{
 "cells": [
  {
   "cell_type": "code",
   "execution_count": null,
   "id": "483fdeb9",
   "metadata": {},
   "outputs": [],
   "source": [
    "\n",
    "import pandas as pd\n",
    "import matplotlib.pyplot as plt\n",
    "import seaborn as sns\n",
    "\n",
    "# Загрузка данных из CSV-файла\n",
    "df = pd.read_csv(\"data.csv\")\n",
    "print(\"Первые строки данных:\")\n",
    "display(df.head())\n"
   ]
  },
  {
   "cell_type": "code",
   "execution_count": null,
   "id": "f3795bde",
   "metadata": {},
   "outputs": [],
   "source": [
    "\n",
    "# Проверка типов данных\n",
    "print(\"Типы данных в DataFrame:\")\n",
    "print(df.dtypes)\n"
   ]
  },
  {
   "cell_type": "code",
   "execution_count": null,
   "id": "3dcca1e4",
   "metadata": {},
   "outputs": [],
   "source": [
    "\n",
    "# Обнаружение пропусков в данных\n",
    "print(\"Количество пропусков в каждом столбце:\")\n",
    "print(df.isnull().sum())\n",
    "\n",
    "# Обработка пропусков: заполнение пропусков в столбце 'Age' медианным значением\n",
    "df['Age'].fillna(df['Age'].median(), inplace=True)\n",
    "df['Salary'].fillna(df['Salary'].mean(), inplace=True)\n",
    "df['Department'].fillna('Unknown', inplace=True)\n",
    "\n",
    "print(\"Данные после обработки пропусков:\")\n",
    "display(df.head())\n"
   ]
  },
  {
   "cell_type": "code",
   "execution_count": null,
   "id": "e88a41eb",
   "metadata": {},
   "outputs": [],
   "source": [
    "\n",
    "# Преобразование типов данных\n",
    "df['Age'] = df['Age'].astype(int)\n",
    "print(\"Типы данных после преобразования:\")\n",
    "print(df.dtypes)\n"
   ]
  },
  {
   "cell_type": "code",
   "execution_count": null,
   "id": "6f2d3f42",
   "metadata": {},
   "outputs": [],
   "source": [
    "\n",
    "# Визуализация данных\n",
    "plt.figure(figsize=(8, 6))\n",
    "sns.barplot(x=\"Department\", y=\"Salary\", data=df)\n",
    "plt.title(\"Средняя зарплата по отделам\")\n",
    "plt.show()\n",
    "\n",
    "plt.figure(figsize=(8, 6))\n",
    "sns.histplot(df['Age'], kde=True, bins=10)\n",
    "plt.title(\"Распределение возраста сотрудников\")\n",
    "plt.show()\n"
   ]
  }
 ],
 "metadata": {},
 "nbformat": 4,
 "nbformat_minor": 5
}
